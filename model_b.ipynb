{
 "cells": [
  {
   "cell_type": "markdown",
   "metadata": {
    "id": "gV3CMsPMn1s2"
   },
   "source": [
    "As per notebook convention, imports are handled at the beginning"
   ]
  },
  {
   "cell_type": "code",
   "execution_count": 1,
   "outputs": [
    {
     "name": "stdout",
     "output_type": "stream",
     "text": [
      "Cuda is available:  True\n"
     ]
    }
   ],
   "source": [
    "import copy\n",
    "import json\n",
    "import math\n",
    "import time\n",
    "from statistics import mean\n",
    "from typing import List, Tuple, Optional\n",
    "\n",
    "import matplotlib.pyplot as plt\n",
    "import torch\n",
    "import torch.nn as nn\n",
    "import torch.nn.functional as F\n",
    "from sklearn.metrics import accuracy_score\n",
    "from sklearn.metrics.pairwise import cosine_similarity\n",
    "from torch import Tensor\n",
    "from torch.autograd import Variable\n",
    "from torch.nn.init import xavier_uniform_\n",
    "\n",
    "print(\"Cuda is available: \", torch.cuda.is_available())\n",
    "device = torch.device(\"cuda\" if torch.cuda.is_available() else \"cpu\")"
   ],
   "metadata": {
    "collapsed": false,
    "pycharm": {
     "name": "#%%\n"
    }
   }
  },
  {
   "cell_type": "markdown",
   "source": [
    "# Data\n",
    "## Preprocessing\n",
    "This the data preprocessing \"pipeline\". These single responsibility unary functions are used to transform the\n",
    "raw data collected and split via the scala spark job into usable source and target tensors"
   ],
   "metadata": {
    "collapsed": false,
    "pycharm": {
     "name": "#%% md\n"
    }
   }
  },
  {
   "cell_type": "code",
   "execution_count": 2,
   "outputs": [],
   "source": [
    "# reads spark files and puts them into lines\n",
    "def read_multi_json_objects_file(filename: str) -> List[dict]:\n",
    "    with open(filename, 'r') as file:\n",
    "        return [json.loads(line) for line in file]\n",
    "\n",
    "# splits lines into user -> (history+target)\n",
    "def extract_raw_history_data_from(data):\n",
    "    return [history[\"value\"] for history in data ]"
   ],
   "metadata": {
    "collapsed": false,
    "pycharm": {
     "name": "#%%\n"
    }
   }
  },
  {
   "cell_type": "code",
   "execution_count": 3,
   "outputs": [],
   "source": [
    "def l2_normalization(data: Tensor) -> Tensor:\n",
    "    return F.normalize(data, p=2, dim=2)\n",
    "\n",
    "# creates tensors from history\n",
    "def as_tensor(bert_histories: List[List[List[float]]]) -> Tensor:\n",
    "\n",
    "    # essentially create one giant batch\n",
    "    histories = [ torch.tensor(history).unsqueeze(1) for history in bert_histories ]\n",
    "    return torch.cat(histories, 1) # either normalize or not, subject to testing"
   ],
   "metadata": {
    "collapsed": false,
    "pycharm": {
     "name": "#%%\n"
    }
   }
  },
  {
   "cell_type": "code",
   "execution_count": 4,
   "outputs": [],
   "source": [
    "pert_padding_vector = torch.zeros(768).to(device)\n",
    "\n",
    "# this has to be precalculated as per-batch calculation doubles traning time\n",
    "# creates a nxm matrix\n",
    "def generate_padding_mask(data: Tensor) -> Tensor:\n",
    "            batch_paddings = []\n",
    "\n",
    "            for batch in range(data.shape[1]):\n",
    "                sequence_padding = torch.tensor([\n",
    "                    torch.eq(data[article, batch, :], pert_padding_vector).all() # true if padding\n",
    "                        for article in range(data.shape[0])\n",
    "                ]).to(device)\n",
    "                batch_paddings.append(sequence_padding)\n",
    "\n",
    "            return torch.stack(batch_paddings, dim=0).detach().to(device)"
   ],
   "metadata": {
    "collapsed": false,
    "pycharm": {
     "name": "#%%\n"
    }
   }
  },
  {
   "cell_type": "markdown",
   "source": [
    "Our data is prepared using the functions implemented above"
   ],
   "metadata": {
    "collapsed": false,
    "pycharm": {
     "name": "#%% md\n"
    }
   }
  },
  {
   "cell_type": "code",
   "execution_count": 5,
   "outputs": [],
   "source": [
    "# shape of these is [x0, ..., xn + 1], so 2 longer than seq_length\n",
    "# this is because we're going to split at 0-15, 1-16, 2-17 for encoder S, decoder Sd and target St respectively\n",
    "train_test_data = read_multi_json_objects_file('../data/seq_16/train/6k.json')\n",
    "validation_data = read_multi_json_objects_file('../data/seq_16/val/600.json')"
   ],
   "metadata": {
    "collapsed": false,
    "pycharm": {
     "name": "#%%\n"
    }
   }
  },
  {
   "cell_type": "code",
   "execution_count": 6,
   "outputs": [],
   "source": [
    "train_test_histories = extract_raw_history_data_from(train_test_data)\n",
    "validation_histories = extract_raw_history_data_from(validation_data)"
   ],
   "metadata": {
    "collapsed": false,
    "pycharm": {
     "name": "#%%\n"
    }
   }
  },
  {
   "cell_type": "markdown",
   "source": [
    "Train and test splits are defined"
   ],
   "metadata": {
    "collapsed": false
   }
  },
  {
   "cell_type": "code",
   "execution_count": 7,
   "metadata": {
    "colab": {
     "base_uri": "https://localhost:8080/",
     "height": 368
    },
    "id": "h5nNBvr05Z7X",
    "outputId": "c00d04e4-070e-4899-f0d7-be41e7a593a0",
    "pycharm": {
     "name": "#%%\n"
    }
   },
   "outputs": [],
   "source": [
    "train_test_split = 0.8\n",
    "\n",
    "samples = len(train_test_histories)\n",
    "\n",
    "train_samples = int(samples * train_test_split)\n",
    "val_samples = samples - train_samples"
   ]
  },
  {
   "cell_type": "code",
   "execution_count": 8,
   "outputs": [],
   "source": [
    "unbatched_train_data = train_test_histories[:train_samples]\n",
    "unbatched_test_data = train_test_histories[train_samples:]\n",
    "unbatched_val_data = validation_histories"
   ],
   "metadata": {
    "collapsed": false,
    "pycharm": {
     "name": "#%%\n"
    }
   }
  },
  {
   "cell_type": "code",
   "execution_count": 9,
   "metadata": {
    "pycharm": {
     "name": "#%%\n"
    }
   },
   "outputs": [],
   "source": [
    "# Expand and push data to cuda device\n",
    "train_data  = as_tensor(unbatched_train_data).to(device)\n",
    "test_data   = as_tensor(unbatched_test_data).to(device)\n",
    "val_data    = as_tensor(unbatched_val_data).to(device)"
   ]
  },
  {
   "cell_type": "code",
   "execution_count": 10,
   "outputs": [],
   "source": [
    "# Precompute padding maps and push to cuda device\n",
    "train_padding_map = generate_padding_mask(train_data).to(device)\n",
    "test_padding_map  = generate_padding_mask(test_data).to(device)\n",
    "val_padding_map   = generate_padding_mask(val_data).to(device)"
   ],
   "metadata": {
    "collapsed": false,
    "pycharm": {
     "name": "#%%\n"
    }
   }
  },
  {
   "cell_type": "markdown",
   "source": [
    "# Model\n",
    "\n",
    "## Positional Encoding\n",
    "RelativePositionalEncoding module injects some information about the relative or absolute position of the tokens in the sequence. The positional encodings have the same dimension as the embeddings so that the two can be summed. Here, we use sine and cosine functions of different frequencies."
   ],
   "metadata": {
    "collapsed": false
   }
  },
  {
   "cell_type": "code",
   "execution_count": 11,
   "outputs": [],
   "source": [
    "class RelativePositionalEncoding(nn.Module):\n",
    "    \"Implement the PE function.\"\n",
    "    def __init__(self, model_dimension, dropout_rate, max_len=5000):\n",
    "        super(RelativePositionalEncoding, self).__init__()\n",
    "        self.dropout = nn.Dropout(p=dropout_rate)\n",
    "\n",
    "        # Compute the positional encodings once in log space.\n",
    "        pe = torch.zeros(max_len, model_dimension)\n",
    "        position = torch.arange(0, max_len).unsqueeze(1)\n",
    "        div_term = torch.exp(torch.arange(0, model_dimension, 2) * -(math.log(10000.0) / model_dimension))\n",
    "        pe[:, 0::2] = torch.sin(position * div_term)\n",
    "        pe[:, 1::2] = torch.cos(position * div_term)\n",
    "        pe = pe.unsqueeze(0)\n",
    "        self.register_buffer('pe', pe)\n",
    "\n",
    "    def forward(self, unencoded):\n",
    "        encoded = unencoded + Variable(self.pe[:, :unencoded.size(1)], requires_grad=False)\n",
    "        return self.dropout(encoded)"
   ],
   "metadata": {
    "collapsed": false,
    "pycharm": {
     "name": "#%%\n"
    }
   }
  },
  {
   "cell_type": "markdown",
   "source": [
    "## Encoder/Decoder definitions"
   ],
   "metadata": {
    "collapsed": false
   }
  },
  {
   "cell_type": "code",
   "execution_count": 12,
   "outputs": [],
   "source": [
    "def _get_clones(module, N):\n",
    "    return nn.ModuleList([copy.deepcopy(module) for i in range(N)])"
   ],
   "metadata": {
    "collapsed": false,
    "pycharm": {
     "name": "#%%\n"
    }
   }
  },
  {
   "cell_type": "code",
   "execution_count": 13,
   "outputs": [],
   "source": [
    "class TransformerEncoderLayer(nn.Module):\n",
    "    def __init__(self, d_model, nhead, dim_feedforward=2048, dropout=0.1):\n",
    "        super(TransformerEncoderLayer, self).__init__()\n",
    "        self.self_attn = nn.MultiheadAttention(d_model, nhead, dropout=dropout)\n",
    "\n",
    "        self.linear1 = nn.Linear(d_model, dim_feedforward)\n",
    "        self.dropout = nn.Dropout(dropout)\n",
    "        self.linear2 = nn.Linear(dim_feedforward, d_model)\n",
    "\n",
    "        self.norm1 = nn.LayerNorm(d_model)\n",
    "        self.norm2 = nn.LayerNorm(d_model)\n",
    "        self.dropout1 = nn.Dropout(dropout)\n",
    "        self.dropout2 = nn.Dropout(dropout)\n",
    "\n",
    "        self.activation = nn.ReLU()\n",
    "\n",
    "    def forward(self, src: Tensor, src_mask: Tensor = None, src_key_padding_mask: Tensor = None) -> Tuple[Tensor, Tensor]:\n",
    "        res = src\n",
    "        src = self.norm1(src)\n",
    "        src, attn = self.self_attn.forward(src, src, src, attn_mask=src_mask, key_padding_mask=src_key_padding_mask)\n",
    "        src = res + self.dropout1(src)\n",
    "\n",
    "        res = src\n",
    "        src = self.norm2(src)\n",
    "        src = self.linear2(self.dropout(self.activation(self.linear1(src))))\n",
    "        src = res + self.dropout2(src)\n",
    "\n",
    "        return src, attn"
   ],
   "metadata": {
    "collapsed": false,
    "pycharm": {
     "name": "#%%\n"
    }
   }
  },
  {
   "cell_type": "code",
   "execution_count": 14,
   "outputs": [],
   "source": [
    "class TransformerEncoder(nn.Module):\n",
    "    def __init__(self, encoder_layer, num_layers):\n",
    "        super(TransformerEncoder, self).__init__()\n",
    "        self.layers = _get_clones(encoder_layer, num_layers)\n",
    "        self.num_layers = num_layers\n",
    "\n",
    "    def forward(self, src: Tensor, mask: Tensor = None, src_key_padding_mask: Tensor = None) -> Tuple[Tensor, Tensor]:\n",
    "        output = src\n",
    "        n_self_attn = []\n",
    "        for mod in self.layers:\n",
    "            output, self_attn = mod(output, src_mask=mask, src_key_padding_mask=src_key_padding_mask)\n",
    "            n_self_attn.append(self_attn.unsqueeze(dim=0))\n",
    "\n",
    "        return output, torch.cat(n_self_attn, 0).detach()"
   ],
   "metadata": {
    "collapsed": false,
    "pycharm": {
     "name": "#%%\n"
    }
   }
  },
  {
   "cell_type": "code",
   "execution_count": 15,
   "outputs": [],
   "source": [
    "class TransformerDecoderLayer(nn.Module):\n",
    "    def __init__(self, d_model, nhead, dim_feedforward=2048, dropout=0.1):\n",
    "        super(TransformerDecoderLayer, self).__init__()\n",
    "        self.self_attn = nn.MultiheadAttention(d_model, nhead, dropout=dropout)\n",
    "        self.multihead_attn = nn.MultiheadAttention(d_model, nhead, dropout=dropout)\n",
    "\n",
    "        self.linear1 = nn.Linear(d_model, dim_feedforward)\n",
    "        self.dropout = nn.Dropout(dropout)\n",
    "        self.linear2 = nn.Linear(dim_feedforward, d_model)\n",
    "\n",
    "        self.norm1 = nn.LayerNorm(d_model)\n",
    "        self.norm2 = nn.LayerNorm(d_model)\n",
    "        self.norm3 = nn.LayerNorm(d_model)\n",
    "        self.dropout1 = nn.Dropout(dropout)\n",
    "        self.dropout2 = nn.Dropout(dropout)\n",
    "        self.dropout3 = nn.Dropout(dropout)\n",
    "\n",
    "        self.activation = nn.ReLU()\n",
    "\n",
    "    def forward(self, tgt: Tensor, memory: Tensor, tgt_mask: Tensor = None, memory_mask: Tensor = None,\n",
    "                tgt_key_padding_mask: Tensor = None, memory_key_padding_mask: Tensor = None) -> Tuple[Tensor, Tensor, Tensor]:\n",
    "        res = tgt\n",
    "        tgt = self.norm1(tgt)\n",
    "        tgt, self_attn = self.self_attn(tgt, tgt, tgt, attn_mask=tgt_mask, key_padding_mask=tgt_key_padding_mask)\n",
    "        tgt = res + self.dropout1(tgt)\n",
    "\n",
    "        res = tgt\n",
    "        tgt = self.norm2(tgt)\n",
    "        tgt, mult_attn = self.multihead_attn(tgt, memory, memory, attn_mask=memory_mask, key_padding_mask=memory_key_padding_mask)\n",
    "        tgt = res + self.dropout2(tgt)\n",
    "\n",
    "        res = tgt\n",
    "        tgt = self.norm3(tgt)\n",
    "        tgt = self.linear2(self.dropout(self.activation(self.linear1(tgt))))\n",
    "        tgt = res + self.dropout3(tgt)\n",
    "\n",
    "        return tgt, self_attn, mult_attn"
   ],
   "metadata": {
    "collapsed": false,
    "pycharm": {
     "name": "#%%\n"
    }
   }
  },
  {
   "cell_type": "code",
   "execution_count": 16,
   "outputs": [],
   "source": [
    "class TransformerDecoder(nn.Module):\n",
    "    def __init__(self, decoder_layer, num_layers):\n",
    "        super(TransformerDecoder, self).__init__()\n",
    "        self.layers = _get_clones(decoder_layer, num_layers)\n",
    "        self.num_layers = num_layers\n",
    "\n",
    "    def forward(self, tgt: Tensor, memory: Tensor, tgt_mask: Tensor = None,\n",
    "                memory_mask: Tensor = None, tgt_key_padding_mask: Tensor = None,\n",
    "                memory_key_padding_mask: Tensor = None) -> Tuple[Tensor, Tensor, Tensor]:\n",
    "        output = tgt\n",
    "        for mod in self.layers:\n",
    "            output, self_attn, mult_attn = mod(output, memory, tgt_mask=tgt_mask,\n",
    "                         memory_mask=memory_mask,\n",
    "                         tgt_key_padding_mask=tgt_key_padding_mask,\n",
    "                         memory_key_padding_mask=memory_key_padding_mask)\n",
    "\n",
    "        return output, self_attn.detach(), mult_attn.detach()"
   ],
   "metadata": {
    "collapsed": false,
    "pycharm": {
     "name": "#%%\n"
    }
   }
  },
  {
   "cell_type": "markdown",
   "source": [
    "## Input/Output definition"
   ],
   "metadata": {
    "collapsed": false,
    "pycharm": {
     "name": "#%% md\n"
    }
   }
  },
  {
   "cell_type": "code",
   "execution_count": 17,
   "outputs": [],
   "source": [
    "class Input(nn.Module):\n",
    "    def __init__(self, model_dimension, embedding_dimension, dropout):\n",
    "        super().__init__()\n",
    "        self.linear              = nn.Linear(embedding_dimension, model_dimension)\n",
    "        self.positional_encoding = RelativePositionalEncoding(model_dimension, dropout)\n",
    "\n",
    "    def forward(self, data) -> Tensor:\n",
    "        data = l2_normalization(data)\n",
    "        data = self.linear(data) * math.sqrt(model_dimension)\n",
    "        data = self.positional_encoding(data)\n",
    "        return data\n",
    "\n",
    "class Output(nn.Module):\n",
    "    def __init__(self, model_dimension, feedforward_dimension, embedding_dimension, dropout):\n",
    "        super().__init__()\n",
    "        self.widen           = nn.Linear(model_dimension, feedforward_dimension)\n",
    "        self.relu            = nn.ReLU()\n",
    "        self.dropout         = nn.Dropout(dropout)\n",
    "        self.shrink          = nn.Linear(feedforward_dimension, embedding_dimension)\n",
    "        self.hard_shrink     = nn.Hardshrink(0.01)\n",
    "\n",
    "    def forward(self, data) -> Tensor:\n",
    "        data = self.widen(data)\n",
    "        data = self.relu(data)\n",
    "        data = self.dropout(data)\n",
    "        data = self.shrink(data)\n",
    "        data = self.hard_shrink(data)\n",
    "        return data"
   ],
   "metadata": {
    "collapsed": false,
    "pycharm": {
     "name": "#%%\n"
    }
   }
  },
  {
   "cell_type": "markdown",
   "source": [
    "## Model definition"
   ],
   "metadata": {
    "collapsed": false
   }
  },
  {
   "cell_type": "code",
   "execution_count": 18,
   "outputs": [],
   "source": [
    "class BertHistoryTransformer(nn.Module):\n",
    "    def __init__(\n",
    "        self,\n",
    "        decoder_seq_length,\n",
    "        embedding_dimension,\n",
    "        model_dimension,\n",
    "        encoder_layers,\n",
    "        decoder_layers,\n",
    "        heads,\n",
    "        dropout\n",
    "    ):\n",
    "        super().__init__()\n",
    "        self.model_dimension = model_dimension\n",
    "        self.padding = torch.zeros(embedding_dimension).to(device)\n",
    "        self.mask = self.generate_square_subsequent_mask(decoder_seq_length)\n",
    "\n",
    "        self.pre_ln_norm = nn.LayerNorm(model_dimension).to(device)\n",
    "\n",
    "        self.encoder = Input(model_dimension, embedding_dimension, dropout).to(device)\n",
    "        # -----------------------------------------------------------------------------------------\n",
    "        encoder_layer = TransformerEncoderLayer(\n",
    "            d_model=model_dimension,\n",
    "            nhead=heads,\n",
    "            dim_feedforward=feedforward_dimension,\n",
    "            dropout=dropout\n",
    "        )\n",
    "        self.transformer_enc = TransformerEncoder(encoder_layer, encoder_layers).to(device)\n",
    "        # -----------------------------------------------------------------------------------------\n",
    "        decoder_layer = TransformerDecoderLayer(\n",
    "            d_model=model_dimension,\n",
    "            nhead=heads,\n",
    "            dim_feedforward=feedforward_dimension,\n",
    "            dropout=dropout\n",
    "        )\n",
    "        self.transformer_dec = TransformerDecoder(decoder_layer, decoder_layers).to(device)\n",
    "        # -----------------------------------------------------------------------------------------\n",
    "        self.decoder = Output(model_dimension, feedforward_dimension, embedding_dimension, dropout).to(device)\n",
    "\n",
    "        self.init_weights()\n",
    "\n",
    "    def init_weights(self):\n",
    "        for p in self.parameters():\n",
    "            if p.dim() > 1:\n",
    "                xavier_uniform_(p)\n",
    "\n",
    "    def generate_square_subsequent_mask(self, sz: int) -> Tensor:\n",
    "        mask = (torch.triu(torch.ones(sz, sz)) == 1).transpose(0, 1)\n",
    "        mask = mask.float().masked_fill(mask == 0, float('-inf')).masked_fill(mask == 1, float(0.0))\n",
    "        return mask.to(device)\n",
    "\n",
    "    # -----------------------------------------------------------------------------------------\n",
    "    def transform(self, src, tgt) -> Tuple[Tensor, Tensor, Tensor, Tensor]:\n",
    "        memory, enc_att           = self.transformer_enc.forward(src)\n",
    "        memory, dec_att, mult_att = self.transformer_dec.forward(tgt, self.pre_ln_norm(memory), tgt_mask=self.mask)\n",
    "\n",
    "        return memory, enc_att, dec_att, mult_att\n",
    "\n",
    "    # -----------------------------------------------------------------------------------------\n",
    "    def _step(self, src, tgt, src_key_padding_mask=None) -> Tuple[Tensor, Tensor, Tensor, Tensor]:\n",
    "        source_memory = self.encoder(src)\n",
    "        target_memory = self.encoder(tgt)\n",
    "\n",
    "        memory, enc_att, dec_attn, mult_attn = self.transform(source_memory, target_memory)\n",
    "        output = self.decoder(memory)\n",
    "\n",
    "        return output, enc_att, dec_attn, mult_attn\n",
    "\n",
    "    def forward(self, src, tgt, src_key_padding_mask=None) -> Tensor:\n",
    "        return self._step(src, tgt, src_key_padding_mask)[0]\n",
    "\n",
    "    def predict(self, src, tgt, src_key_padding_mask=None) -> Tuple[Tensor, Tensor, Tensor, Tensor]:\n",
    "        with torch.no_grad():\n",
    "            return self._step(src, tgt, src_key_padding_mask)"
   ],
   "metadata": {
    "collapsed": false,
    "pycharm": {
     "name": "#%%\n"
    }
   }
  },
  {
   "cell_type": "markdown",
   "source": [
    "## Batching"
   ],
   "metadata": {
    "collapsed": false,
    "pycharm": {
     "name": "#%% md\n"
    }
   }
  },
  {
   "cell_type": "markdown",
   "source": [
    "Semantically part of the training loop, this function stacks tensors of size _seq-length x channels_ into tensors of\n",
    "dimensions _seq-length x batch-size x channels_, adhering to the 'named tensor' convention."
   ],
   "metadata": {
    "collapsed": false
   }
  },
  {
   "cell_type": "code",
   "execution_count": 19,
   "outputs": [],
   "source": [
    "# batchifies and expands source to encoder source, decoder source, target, and padding\n",
    "def get_batch(source: Tensor, src_padding: Optional[Tensor], batch_offset) -> Tuple[Tensor, Tensor, Tensor, Tensor]:\n",
    "    current_batch_size = min(batch_size, source.shape[1] - 1 - batch_offset)\n",
    "\n",
    "    # source is already sliced per sequence, so we address batches only by offset\n",
    "    batch: Tensor   = source[:, batch_offset : batch_offset + current_batch_size, :]\n",
    "    if src_padding != None:\n",
    "        padding: Tensor = src_padding[batch_offset : batch_offset + current_batch_size, :]\n",
    "    else:\n",
    "        padding: Tensor = pert_padding_vector\n",
    "\n",
    "    # calculate offsets for decoder and target sequence\n",
    "    dec_start = max_seq_length - decoder_seq_length - 1\n",
    "    dec_end   = dec_start + decoder_seq_length\n",
    "\n",
    "    sources_enc: Tensor = batch[0            :seq_length , :, :]\n",
    "    sources_dec: Tensor = batch[dec_start    :dec_end    , :, :]\n",
    "    targets: Tensor     = batch[dec_start + 1:dec_end + 1, :, :]\n",
    "\n",
    "    # Careful: padding has length of scala seq length, so it has to be sliced\n",
    "    return sources_enc, sources_dec, targets, padding"
   ],
   "metadata": {
    "collapsed": false,
    "pycharm": {
     "name": "#%%\n"
    }
   }
  },
  {
   "cell_type": "markdown",
   "source": [
    "# Training\n"
   ],
   "metadata": {
    "collapsed": false,
    "pycharm": {
     "name": "#%% md\n"
    }
   }
  },
  {
   "cell_type": "markdown",
   "source": [
    "## Loss"
   ],
   "metadata": {
    "collapsed": false,
    "pycharm": {
     "name": "#%% md\n"
    }
   }
  },
  {
   "cell_type": "code",
   "execution_count": 20,
   "outputs": [],
   "source": [
    "# LOSS FUNCTION----------------------------------------------------------------\n",
    "cosine_loss = nn.CosineEmbeddingLoss()\n",
    "eucl_loss = nn.MSELoss()\n",
    "\n",
    "def calculate_loss(pred: Tensor, target: Tensor) -> Tensor:\n",
    "    #return cosine_loss(\n",
    "    #    pred.reshape(-1, embedding_dimension),\n",
    "    #    target.reshape(-1, embedding_dimension),\n",
    "    #    target=similar_dissimilar_label[:(pred.shape[0]) * pred.shape[1]]\n",
    "    #)\n",
    "    #return torch.sqrt(eucl_loss(pred.reshape(-1), target.reshape(-1)) + 1e-6)\n",
    "    return torch.sqrt(\n",
    "        eucl_loss( # all but the last item\n",
    "            pred[:decoder_seq_length-1, : , :].reshape(-1),\n",
    "            target[:decoder_seq_length-1, : , :].reshape(-1)\n",
    "            ) + 1e-6 # plus epsilon for RMSE\n",
    "    ) + (1.3 * torch.sqrt(\n",
    "        eucl_loss( # the last item - our real prediction - is weighted more heavily\n",
    "            pred[decoder_seq_length-1:decoder_seq_length, : , :].reshape(-1),\n",
    "            target[decoder_seq_length-1:decoder_seq_length, : , :].reshape(-1),\n",
    "        ) + 1e-6 # plus epsilon for RMSE\n",
    "    ))\n",
    "    #return cosine_loss(\n",
    "    #    pred.reshape(-1, embedding_dimension),\n",
    "    #    target.reshape(-1, embedding_dimension),\n",
    "    #    target=similar_dissimilar_label[:(pred.shape[0]) * pred.shape[1]]\n",
    "    #) + eucl_loss(pred.reshape(-1), target.reshape(-1))\n",
    "    #return mse_loss.forward(\n",
    "    #    pred[:seq_length-1, : , :].reshape(-1),\n",
    "    #    target[:seq_length-1, : , :].reshape(-1),\n",
    "    #) + cosine_loss.forward(\n",
    "    #    pred[seq_length-1:seq_length, : , :].reshape(-1, embedding_dimension),\n",
    "    #    target[seq_length-1:seq_length, : , :].reshape(-1, embedding_dimension),\n",
    "    #    target=similar_dissimilar_label[:pred.shape[1]]\n",
    "    #)"
   ],
   "metadata": {
    "collapsed": false,
    "pycharm": {
     "name": "#%%\n"
    }
   }
  },
  {
   "cell_type": "markdown",
   "source": [
    "## Train and evaluation loops"
   ],
   "metadata": {
    "collapsed": false
   }
  },
  {
   "cell_type": "code",
   "execution_count": 21,
   "outputs": [],
   "source": [
    "def train():\n",
    "    model.train() # Turn on the train mode\n",
    "    total_loss = []\n",
    "    start_time = time.time()\n",
    "    log_interval = max(1, train_data.shape[1] / batch_size // 2)\n",
    "\n",
    "\n",
    "\n",
    "    for batch_number, batch_offset in enumerate(range(0, train_data.shape[1] - 1, batch_size)):\n",
    "        enc_source, dec_source, target, pad = get_batch(train_data, train_padding_map, batch_offset)\n",
    "\n",
    "        optimizer.zero_grad()\n",
    "        output: Tensor = model.forward(enc_source, dec_source, None)\n",
    "\n",
    "        current_loss: Tensor = calculate_loss(output, target)\n",
    "\n",
    "        current_loss.backward()\n",
    "        torch.nn.utils.clip_grad_norm_(model.parameters(), 0.5)\n",
    "        optimizer.step()\n",
    "\n",
    "        total_loss.append(current_loss.detach().item())\n",
    "\n",
    "        if batch_number + 1 % log_interval == 0:\n",
    "            cur_loss = mean(total_loss)\n",
    "\n",
    "            elapsed = time.time() - start_time\n",
    "            print('| epoch {:3d} | {:5d}/{:5d} batches | '\n",
    "                              'lr {:02.6f} | ms/batch {:5.2f} | '\n",
    "                              'loss {:5.4f} | ppl {:8.2f}'.format(\n",
    "                                    epoch,\n",
    "                                    batch_number + 1,\n",
    "                                    train_data.shape[1] // batch_size,\n",
    "                                    scheduler.get_last_lr()[0],\n",
    "                                    elapsed * 1000 / log_interval,\n",
    "                                    cur_loss,\n",
    "                                    math.exp(cur_loss)\n",
    "                                )\n",
    "            )\n",
    "            total_loss = [0]\n",
    "            start_time = time.time()\n",
    "\n",
    "def evaluate(eval_model: BertHistoryTransformer, data_source: Tensor) -> Tuple[float, Tensor, Tensor, Tensor]:\n",
    "    eval_model.eval() # Turn on the evaluation mode\n",
    "    total_loss = []\n",
    "\n",
    "    with torch.no_grad():\n",
    "        for batch, batch_offset in enumerate(range(0, data_source.shape[1] - 1, batch_size)):\n",
    "            enc_source, dec_source, target, pad = get_batch(data_source, None, batch_offset)\n",
    "            output, enc_attn, dec_attn, mult_attn = eval_model.predict(enc_source, dec_source, pad)\n",
    "\n",
    "            current_loss: Tensor = calculate_loss(output, target).detach().item()\n",
    "\n",
    "            total_loss.append(current_loss)\n",
    "    return mean(total_loss), enc_attn, dec_attn, mult_attn"
   ],
   "metadata": {
    "collapsed": false,
    "pycharm": {
     "name": "#%%\n"
    }
   }
  },
  {
   "cell_type": "markdown",
   "source": [
    "## Parameters and Hyperparameters, Model instantiation, Loss defintion\n",
    "Training is started"
   ],
   "metadata": {
    "collapsed": false,
    "pycharm": {
     "name": "#%% md\n"
    }
   }
  },
  {
   "cell_type": "code",
   "execution_count": 22,
   "outputs": [
    {
     "name": "stdout",
     "output_type": "stream",
     "text": [
      "| ==== Got   4800 training examples, splitting into   37 batches a  128 examples \n",
      "-----------------------------------------------------------------------------------------\n",
      "| end of epoch   1 | time: 14.59s | test loss 5.9339 | test ppl   377.63\n",
      "-----------------------------------------------------------------------------------------\n",
      "-----------------------------------------------------------------------------------------\n",
      "| end of epoch   2 | time: 14.07s | test loss 5.6964 | test ppl   297.79\n",
      "-----------------------------------------------------------------------------------------\n",
      "-----------------------------------------------------------------------------------------\n",
      "| end of epoch   3 | time: 14.10s | test loss 5.3617 | test ppl   213.08\n",
      "-----------------------------------------------------------------------------------------\n",
      "-----------------------------------------------------------------------------------------\n",
      "| end of epoch   4 | time: 14.11s | test loss 4.9563 | test ppl   142.07\n",
      "-----------------------------------------------------------------------------------------\n",
      "-----------------------------------------------------------------------------------------\n",
      "| end of epoch   5 | time: 14.13s | test loss 4.5157 | test ppl    91.44\n",
      "-----------------------------------------------------------------------------------------\n",
      "-----------------------------------------------------------------------------------------\n",
      "| end of epoch   6 | time: 14.19s | test loss 4.0794 | test ppl    59.11\n",
      "-----------------------------------------------------------------------------------------\n",
      "-----------------------------------------------------------------------------------------\n",
      "| end of epoch   7 | time: 14.17s | test loss 3.6842 | test ppl    39.81\n",
      "-----------------------------------------------------------------------------------------\n",
      "-----------------------------------------------------------------------------------------\n",
      "| end of epoch   8 | time: 14.19s | test loss 3.3534 | test ppl    28.60\n",
      "-----------------------------------------------------------------------------------------\n",
      "-----------------------------------------------------------------------------------------\n",
      "| end of epoch   9 | time: 14.19s | test loss 3.0880 | test ppl    21.93\n",
      "-----------------------------------------------------------------------------------------\n",
      "-----------------------------------------------------------------------------------------\n",
      "| end of epoch  10 | time: 14.21s | test loss 2.8738 | test ppl    17.70\n",
      "-----------------------------------------------------------------------------------------\n",
      "-----------------------------------------------------------------------------------------\n",
      "| end of epoch  11 | time: 14.21s | test loss 2.6943 | test ppl    14.80\n",
      "-----------------------------------------------------------------------------------------\n",
      "-----------------------------------------------------------------------------------------\n",
      "| end of epoch  12 | time: 14.19s | test loss 2.5406 | test ppl    12.69\n",
      "-----------------------------------------------------------------------------------------\n",
      "-----------------------------------------------------------------------------------------\n",
      "| end of epoch  13 | time: 14.23s | test loss 2.4122 | test ppl    11.16\n",
      "-----------------------------------------------------------------------------------------\n",
      "-----------------------------------------------------------------------------------------\n",
      "| end of epoch  14 | time: 14.21s | test loss 2.2975 | test ppl     9.95\n",
      "-----------------------------------------------------------------------------------------\n",
      "-----------------------------------------------------------------------------------------\n",
      "| end of epoch  15 | time: 14.21s | test loss 2.2043 | test ppl     9.06\n",
      "-----------------------------------------------------------------------------------------\n",
      "-----------------------------------------------------------------------------------------\n",
      "| end of epoch  16 | time: 14.22s | test loss 2.1225 | test ppl     8.35\n",
      "-----------------------------------------------------------------------------------------\n",
      "-----------------------------------------------------------------------------------------\n",
      "| end of epoch  17 | time: 14.24s | test loss 2.0547 | test ppl     7.80\n",
      "-----------------------------------------------------------------------------------------\n",
      "-----------------------------------------------------------------------------------------\n",
      "| end of epoch  18 | time: 14.14s | test loss 1.9982 | test ppl     7.38\n",
      "-----------------------------------------------------------------------------------------\n",
      "-----------------------------------------------------------------------------------------\n",
      "| end of epoch  19 | time: 14.31s | test loss 1.9520 | test ppl     7.04\n",
      "-----------------------------------------------------------------------------------------\n",
      "-----------------------------------------------------------------------------------------\n",
      "| end of epoch  20 | time: 14.26s | test loss 1.9189 | test ppl     6.81\n",
      "-----------------------------------------------------------------------------------------\n",
      "-----------------------------------------------------------------------------------------\n",
      "| end of epoch  21 | time: 14.27s | test loss 1.8931 | test ppl     6.64\n",
      "-----------------------------------------------------------------------------------------\n",
      "-----------------------------------------------------------------------------------------\n",
      "| end of epoch  22 | time: 14.27s | test loss 1.8759 | test ppl     6.53\n",
      "-----------------------------------------------------------------------------------------\n",
      "-----------------------------------------------------------------------------------------\n",
      "| end of epoch  23 | time: 14.29s | test loss 1.8670 | test ppl     6.47\n",
      "-----------------------------------------------------------------------------------------\n",
      "-----------------------------------------------------------------------------------------\n",
      "| end of epoch  24 | time: 14.27s | test loss 1.8666 | test ppl     6.47\n",
      "-----------------------------------------------------------------------------------------\n",
      "-----------------------------------------------------------------------------------------\n",
      "| end of epoch  25 | time: 14.27s | test loss 1.8705 | test ppl     6.49\n",
      "-----------------------------------------------------------------------------------------\n",
      "-----------------------------------------------------------------------------------------\n",
      "| end of epoch  26 | time: 14.27s | test loss 1.8779 | test ppl     6.54\n",
      "-----------------------------------------------------------------------------------------\n",
      "-----------------------------------------------------------------------------------------\n",
      "| end of epoch  27 | time: 14.29s | test loss 1.8816 | test ppl     6.56\n",
      "-----------------------------------------------------------------------------------------\n",
      "-----------------------------------------------------------------------------------------\n",
      "| end of epoch  28 | time: 14.26s | test loss 1.8866 | test ppl     6.60\n",
      "-----------------------------------------------------------------------------------------\n",
      "-----------------------------------------------------------------------------------------\n",
      "| end of epoch  29 | time: 14.27s | test loss 1.8810 | test ppl     6.56\n",
      "-----------------------------------------------------------------------------------------\n",
      "-----------------------------------------------------------------------------------------\n",
      "| end of epoch  30 | time: 14.28s | test loss 1.8689 | test ppl     6.48\n",
      "-----------------------------------------------------------------------------------------\n",
      "-----------------------------------------------------------------------------------------\n",
      "| end of epoch  31 | time: 14.26s | test loss 1.8502 | test ppl     6.36\n",
      "-----------------------------------------------------------------------------------------\n",
      "-----------------------------------------------------------------------------------------\n",
      "| end of epoch  32 | time: 14.27s | test loss 1.8299 | test ppl     6.23\n",
      "-----------------------------------------------------------------------------------------\n",
      "-----------------------------------------------------------------------------------------\n",
      "| end of epoch  33 | time: 14.27s | test loss 1.7994 | test ppl     6.05\n",
      "-----------------------------------------------------------------------------------------\n",
      "-----------------------------------------------------------------------------------------\n",
      "| end of epoch  34 | time: 14.27s | test loss 1.7643 | test ppl     5.84\n",
      "-----------------------------------------------------------------------------------------\n",
      "-----------------------------------------------------------------------------------------\n",
      "| end of epoch  35 | time: 14.25s | test loss 1.7295 | test ppl     5.64\n",
      "-----------------------------------------------------------------------------------------\n",
      "-----------------------------------------------------------------------------------------\n",
      "| end of epoch  36 | time: 14.26s | test loss 1.6888 | test ppl     5.41\n",
      "-----------------------------------------------------------------------------------------\n",
      "-----------------------------------------------------------------------------------------\n",
      "| end of epoch  37 | time: 14.26s | test loss 1.6528 | test ppl     5.22\n",
      "-----------------------------------------------------------------------------------------\n",
      "-----------------------------------------------------------------------------------------\n",
      "| end of epoch  38 | time: 14.24s | test loss 1.6087 | test ppl     5.00\n",
      "-----------------------------------------------------------------------------------------\n",
      "-----------------------------------------------------------------------------------------\n",
      "| end of epoch  39 | time: 14.29s | test loss 1.5706 | test ppl     4.81\n",
      "-----------------------------------------------------------------------------------------\n",
      "-----------------------------------------------------------------------------------------\n",
      "| end of epoch  40 | time: 14.18s | test loss 1.5286 | test ppl     4.61\n",
      "-----------------------------------------------------------------------------------------\n",
      "-----------------------------------------------------------------------------------------\n",
      "| end of epoch  41 | time: 14.16s | test loss 1.4839 | test ppl     4.41\n",
      "-----------------------------------------------------------------------------------------\n",
      "-----------------------------------------------------------------------------------------\n",
      "| end of epoch  42 | time: 14.19s | test loss 1.4463 | test ppl     4.25\n",
      "-----------------------------------------------------------------------------------------\n",
      "-----------------------------------------------------------------------------------------\n",
      "| end of epoch  43 | time: 14.17s | test loss 1.4170 | test ppl     4.12\n",
      "-----------------------------------------------------------------------------------------\n",
      "-----------------------------------------------------------------------------------------\n",
      "| end of epoch  44 | time: 14.17s | test loss 1.3776 | test ppl     3.97\n",
      "-----------------------------------------------------------------------------------------\n",
      "-----------------------------------------------------------------------------------------\n",
      "| end of epoch  45 | time: 14.17s | test loss 1.3510 | test ppl     3.86\n",
      "-----------------------------------------------------------------------------------------\n",
      "-----------------------------------------------------------------------------------------\n",
      "| end of epoch  46 | time: 14.17s | test loss 1.3178 | test ppl     3.74\n",
      "-----------------------------------------------------------------------------------------\n",
      "-----------------------------------------------------------------------------------------\n",
      "| end of epoch  47 | time: 14.21s | test loss 1.2913 | test ppl     3.64\n",
      "-----------------------------------------------------------------------------------------\n",
      "-----------------------------------------------------------------------------------------\n",
      "| end of epoch  48 | time: 14.20s | test loss 1.2631 | test ppl     3.54\n",
      "-----------------------------------------------------------------------------------------\n",
      "-----------------------------------------------------------------------------------------\n",
      "| end of epoch  49 | time: 14.20s | test loss 1.2379 | test ppl     3.45\n",
      "-----------------------------------------------------------------------------------------\n",
      "-----------------------------------------------------------------------------------------\n",
      "| end of epoch  50 | time: 14.18s | test loss 1.2138 | test ppl     3.37\n",
      "-----------------------------------------------------------------------------------------\n",
      "-----------------------------------------------------------------------------------------\n",
      "| end of epoch  51 | time: 14.18s | test loss 1.1875 | test ppl     3.28\n",
      "-----------------------------------------------------------------------------------------\n",
      "-----------------------------------------------------------------------------------------\n",
      "| end of epoch  52 | time: 14.17s | test loss 1.1660 | test ppl     3.21\n",
      "-----------------------------------------------------------------------------------------\n",
      "-----------------------------------------------------------------------------------------\n",
      "| end of epoch  53 | time: 14.18s | test loss 1.1514 | test ppl     3.16\n",
      "-----------------------------------------------------------------------------------------\n",
      "-----------------------------------------------------------------------------------------\n",
      "| end of epoch  54 | time: 14.20s | test loss 1.1420 | test ppl     3.13\n",
      "-----------------------------------------------------------------------------------------\n",
      "-----------------------------------------------------------------------------------------\n",
      "| end of epoch  55 | time: 14.22s | test loss 1.1114 | test ppl     3.04\n",
      "-----------------------------------------------------------------------------------------\n",
      "-----------------------------------------------------------------------------------------\n",
      "| end of epoch  56 | time: 14.19s | test loss 1.1021 | test ppl     3.01\n",
      "-----------------------------------------------------------------------------------------\n",
      "-----------------------------------------------------------------------------------------\n",
      "| end of epoch  57 | time: 14.18s | test loss 1.0901 | test ppl     2.97\n",
      "-----------------------------------------------------------------------------------------\n",
      "-----------------------------------------------------------------------------------------\n",
      "| end of epoch  58 | time: 14.16s | test loss 1.0798 | test ppl     2.94\n",
      "-----------------------------------------------------------------------------------------\n",
      "-----------------------------------------------------------------------------------------\n",
      "| end of epoch  59 | time: 14.18s | test loss 1.0690 | test ppl     2.91\n",
      "-----------------------------------------------------------------------------------------\n",
      "-----------------------------------------------------------------------------------------\n",
      "| end of epoch  60 | time: 14.19s | test loss 1.0614 | test ppl     2.89\n",
      "-----------------------------------------------------------------------------------------\n",
      "-----------------------------------------------------------------------------------------\n",
      "| end of epoch  61 | time: 14.17s | test loss 1.0470 | test ppl     2.85\n",
      "-----------------------------------------------------------------------------------------\n",
      "-----------------------------------------------------------------------------------------\n",
      "| end of epoch  62 | time: 14.17s | test loss 1.0348 | test ppl     2.81\n",
      "-----------------------------------------------------------------------------------------\n",
      "-----------------------------------------------------------------------------------------\n",
      "| end of epoch  63 | time: 14.18s | test loss 1.0320 | test ppl     2.81\n",
      "-----------------------------------------------------------------------------------------\n",
      "-----------------------------------------------------------------------------------------\n",
      "| end of epoch  64 | time: 14.19s | test loss 1.0315 | test ppl     2.81\n",
      "-----------------------------------------------------------------------------------------\n",
      "-----------------------------------------------------------------------------------------\n",
      "| end of epoch  65 | time: 14.20s | test loss 1.0192 | test ppl     2.77\n",
      "-----------------------------------------------------------------------------------------\n",
      "-----------------------------------------------------------------------------------------\n",
      "| end of epoch  66 | time: 14.17s | test loss 1.0101 | test ppl     2.75\n",
      "-----------------------------------------------------------------------------------------\n",
      "-----------------------------------------------------------------------------------------\n",
      "| end of epoch  67 | time: 14.19s | test loss 1.0140 | test ppl     2.76\n",
      "-----------------------------------------------------------------------------------------\n",
      "-----------------------------------------------------------------------------------------\n",
      "| end of epoch  68 | time: 14.18s | test loss 0.9989 | test ppl     2.72\n",
      "-----------------------------------------------------------------------------------------\n",
      "-----------------------------------------------------------------------------------------\n",
      "| end of epoch  69 | time: 14.19s | test loss 1.0056 | test ppl     2.73\n",
      "-----------------------------------------------------------------------------------------\n",
      "-----------------------------------------------------------------------------------------\n",
      "| end of epoch  70 | time: 14.17s | test loss 0.9971 | test ppl     2.71\n",
      "-----------------------------------------------------------------------------------------\n",
      "-----------------------------------------------------------------------------------------\n",
      "| end of epoch  71 | time: 14.20s | test loss 0.9870 | test ppl     2.68\n",
      "-----------------------------------------------------------------------------------------\n",
      "-----------------------------------------------------------------------------------------\n",
      "| end of epoch  72 | time: 14.20s | test loss 0.9875 | test ppl     2.68\n",
      "-----------------------------------------------------------------------------------------\n",
      "-----------------------------------------------------------------------------------------\n",
      "| end of epoch  73 | time: 14.20s | test loss 0.9834 | test ppl     2.67\n",
      "-----------------------------------------------------------------------------------------\n",
      "-----------------------------------------------------------------------------------------\n",
      "| end of epoch  74 | time: 14.17s | test loss 0.9793 | test ppl     2.66\n",
      "-----------------------------------------------------------------------------------------\n",
      "-----------------------------------------------------------------------------------------\n",
      "| end of epoch  75 | time: 14.18s | test loss 0.9787 | test ppl     2.66\n",
      "-----------------------------------------------------------------------------------------\n",
      "-----------------------------------------------------------------------------------------\n",
      "| end of epoch  76 | time: 14.19s | test loss 0.9841 | test ppl     2.68\n",
      "-----------------------------------------------------------------------------------------\n",
      "-----------------------------------------------------------------------------------------\n",
      "| end of epoch  77 | time: 14.21s | test loss 0.9622 | test ppl     2.62\n",
      "-----------------------------------------------------------------------------------------\n",
      "-----------------------------------------------------------------------------------------\n",
      "| end of epoch  78 | time: 14.18s | test loss 0.9653 | test ppl     2.63\n",
      "-----------------------------------------------------------------------------------------\n",
      "-----------------------------------------------------------------------------------------\n",
      "| end of epoch  79 | time: 14.19s | test loss 0.9738 | test ppl     2.65\n",
      "-----------------------------------------------------------------------------------------\n",
      "-----------------------------------------------------------------------------------------\n",
      "| end of epoch  80 | time: 14.18s | test loss 0.9673 | test ppl     2.63\n",
      "-----------------------------------------------------------------------------------------\n",
      "-----------------------------------------------------------------------------------------\n",
      "| end of epoch  81 | time: 14.20s | test loss 0.9606 | test ppl     2.61\n",
      "-----------------------------------------------------------------------------------------\n",
      "-----------------------------------------------------------------------------------------\n",
      "| end of epoch  82 | time: 14.17s | test loss 0.9732 | test ppl     2.65\n",
      "-----------------------------------------------------------------------------------------\n",
      "-----------------------------------------------------------------------------------------\n",
      "| end of epoch  83 | time: 14.17s | test loss 0.9490 | test ppl     2.58\n",
      "-----------------------------------------------------------------------------------------\n",
      "-----------------------------------------------------------------------------------------\n",
      "| end of epoch  84 | time: 14.19s | test loss 0.9546 | test ppl     2.60\n",
      "-----------------------------------------------------------------------------------------\n",
      "-----------------------------------------------------------------------------------------\n",
      "| end of epoch  85 | time: 14.19s | test loss 0.9562 | test ppl     2.60\n",
      "-----------------------------------------------------------------------------------------\n",
      "-----------------------------------------------------------------------------------------\n",
      "| end of epoch  86 | time: 14.17s | test loss 0.9510 | test ppl     2.59\n",
      "-----------------------------------------------------------------------------------------\n",
      "-----------------------------------------------------------------------------------------\n",
      "| end of epoch  87 | time: 14.17s | test loss 0.9552 | test ppl     2.60\n",
      "-----------------------------------------------------------------------------------------\n",
      "-----------------------------------------------------------------------------------------\n",
      "| end of epoch  88 | time: 14.18s | test loss 0.9491 | test ppl     2.58\n",
      "-----------------------------------------------------------------------------------------\n",
      "-----------------------------------------------------------------------------------------\n",
      "| end of epoch  89 | time: 14.17s | test loss 0.9415 | test ppl     2.56\n",
      "-----------------------------------------------------------------------------------------\n",
      "-----------------------------------------------------------------------------------------\n",
      "| end of epoch  90 | time: 14.18s | test loss 0.9541 | test ppl     2.60\n",
      "-----------------------------------------------------------------------------------------\n",
      "-----------------------------------------------------------------------------------------\n",
      "| end of epoch  91 | time: 14.18s | test loss 0.9486 | test ppl     2.58\n",
      "-----------------------------------------------------------------------------------------\n",
      "-----------------------------------------------------------------------------------------\n",
      "| end of epoch  92 | time: 14.17s | test loss 0.9472 | test ppl     2.58\n",
      "-----------------------------------------------------------------------------------------\n",
      "-----------------------------------------------------------------------------------------\n",
      "| end of epoch  93 | time: 14.17s | test loss 0.9512 | test ppl     2.59\n",
      "-----------------------------------------------------------------------------------------\n",
      "-----------------------------------------------------------------------------------------\n",
      "| end of epoch  94 | time: 14.19s | test loss 0.9470 | test ppl     2.58\n",
      "-----------------------------------------------------------------------------------------\n",
      "-----------------------------------------------------------------------------------------\n",
      "| end of epoch  95 | time: 14.18s | test loss 0.9450 | test ppl     2.57\n",
      "-----------------------------------------------------------------------------------------\n",
      "-----------------------------------------------------------------------------------------\n",
      "| end of epoch  96 | time: 14.17s | test loss 0.9380 | test ppl     2.55\n",
      "-----------------------------------------------------------------------------------------\n",
      "-----------------------------------------------------------------------------------------\n",
      "| end of epoch  97 | time: 14.17s | test loss 0.9336 | test ppl     2.54\n",
      "-----------------------------------------------------------------------------------------\n",
      "-----------------------------------------------------------------------------------------\n",
      "| end of epoch  98 | time: 14.18s | test loss 0.9322 | test ppl     2.54\n",
      "-----------------------------------------------------------------------------------------\n",
      "-----------------------------------------------------------------------------------------\n",
      "| end of epoch  99 | time: 14.17s | test loss 0.9336 | test ppl     2.54\n",
      "-----------------------------------------------------------------------------------------\n",
      "-----------------------------------------------------------------------------------------\n",
      "| end of epoch 100 | time: 14.17s | test loss 0.9288 | test ppl     2.53\n",
      "-----------------------------------------------------------------------------------------\n",
      "-----------------------------------------------------------------------------------------\n",
      "| end of epoch 101 | time: 14.19s | test loss 0.9273 | test ppl     2.53\n",
      "-----------------------------------------------------------------------------------------\n",
      "-----------------------------------------------------------------------------------------\n",
      "| end of epoch 102 | time: 14.17s | test loss 0.9298 | test ppl     2.53\n",
      "-----------------------------------------------------------------------------------------\n",
      "-----------------------------------------------------------------------------------------\n",
      "| end of epoch 103 | time: 14.18s | test loss 0.9161 | test ppl     2.50\n",
      "-----------------------------------------------------------------------------------------\n",
      "-----------------------------------------------------------------------------------------\n",
      "| end of epoch 104 | time: 14.17s | test loss 0.9206 | test ppl     2.51\n",
      "-----------------------------------------------------------------------------------------\n",
      "-----------------------------------------------------------------------------------------\n",
      "| end of epoch 105 | time: 14.19s | test loss 0.9233 | test ppl     2.52\n",
      "-----------------------------------------------------------------------------------------\n",
      "-----------------------------------------------------------------------------------------\n",
      "| end of epoch 106 | time: 14.16s | test loss 0.9159 | test ppl     2.50\n",
      "-----------------------------------------------------------------------------------------\n",
      "-----------------------------------------------------------------------------------------\n",
      "| end of epoch 107 | time: 14.19s | test loss 0.9177 | test ppl     2.50\n",
      "-----------------------------------------------------------------------------------------\n",
      "-----------------------------------------------------------------------------------------\n",
      "| end of epoch 108 | time: 14.18s | test loss 0.9098 | test ppl     2.48\n",
      "-----------------------------------------------------------------------------------------\n",
      "-----------------------------------------------------------------------------------------\n",
      "| end of epoch 109 | time: 14.19s | test loss 0.9150 | test ppl     2.50\n",
      "-----------------------------------------------------------------------------------------\n",
      "-----------------------------------------------------------------------------------------\n",
      "| end of epoch 110 | time: 14.16s | test loss 0.9098 | test ppl     2.48\n",
      "-----------------------------------------------------------------------------------------\n",
      "-----------------------------------------------------------------------------------------\n",
      "| end of epoch 111 | time: 14.17s | test loss 0.9078 | test ppl     2.48\n",
      "-----------------------------------------------------------------------------------------\n",
      "-----------------------------------------------------------------------------------------\n",
      "| end of epoch 112 | time: 14.18s | test loss 0.9047 | test ppl     2.47\n",
      "-----------------------------------------------------------------------------------------\n",
      "-----------------------------------------------------------------------------------------\n",
      "| end of epoch 113 | time: 14.18s | test loss 0.9047 | test ppl     2.47\n",
      "-----------------------------------------------------------------------------------------\n",
      "-----------------------------------------------------------------------------------------\n",
      "| end of epoch 114 | time: 14.17s | test loss 0.9096 | test ppl     2.48\n",
      "-----------------------------------------------------------------------------------------\n",
      "-----------------------------------------------------------------------------------------\n",
      "| end of epoch 115 | time: 14.18s | test loss 0.9003 | test ppl     2.46\n",
      "-----------------------------------------------------------------------------------------\n",
      "-----------------------------------------------------------------------------------------\n",
      "| end of epoch 116 | time: 14.17s | test loss 0.9030 | test ppl     2.47\n",
      "-----------------------------------------------------------------------------------------\n",
      "-----------------------------------------------------------------------------------------\n",
      "| end of epoch 117 | time: 14.18s | test loss 0.9021 | test ppl     2.46\n",
      "-----------------------------------------------------------------------------------------\n",
      "-----------------------------------------------------------------------------------------\n",
      "| end of epoch 118 | time: 14.19s | test loss 0.8988 | test ppl     2.46\n",
      "-----------------------------------------------------------------------------------------\n",
      "-----------------------------------------------------------------------------------------\n",
      "| end of epoch 119 | time: 14.18s | test loss 0.9026 | test ppl     2.47\n",
      "-----------------------------------------------------------------------------------------\n",
      "-----------------------------------------------------------------------------------------\n",
      "| end of epoch 120 | time: 14.16s | test loss 0.8989 | test ppl     2.46\n",
      "-----------------------------------------------------------------------------------------\n",
      "-----------------------------------------------------------------------------------------\n",
      "| end of epoch 121 | time: 14.17s | test loss 0.8982 | test ppl     2.46\n",
      "-----------------------------------------------------------------------------------------\n",
      "-----------------------------------------------------------------------------------------\n",
      "| end of epoch 122 | time: 14.17s | test loss 0.8927 | test ppl     2.44\n",
      "-----------------------------------------------------------------------------------------\n",
      "-----------------------------------------------------------------------------------------\n",
      "| end of epoch 123 | time: 14.20s | test loss 0.8917 | test ppl     2.44\n",
      "-----------------------------------------------------------------------------------------\n",
      "-----------------------------------------------------------------------------------------\n",
      "| end of epoch 124 | time: 14.20s | test loss 0.8891 | test ppl     2.43\n",
      "-----------------------------------------------------------------------------------------\n",
      "-----------------------------------------------------------------------------------------\n",
      "| end of epoch 125 | time: 14.19s | test loss 0.8866 | test ppl     2.43\n",
      "-----------------------------------------------------------------------------------------\n",
      "-----------------------------------------------------------------------------------------\n",
      "| end of epoch 126 | time: 14.18s | test loss 0.8866 | test ppl     2.43\n",
      "-----------------------------------------------------------------------------------------\n",
      "-----------------------------------------------------------------------------------------\n",
      "| end of epoch 127 | time: 14.18s | test loss 0.8857 | test ppl     2.42\n",
      "-----------------------------------------------------------------------------------------\n",
      "-----------------------------------------------------------------------------------------\n",
      "| end of epoch 128 | time: 14.20s | test loss 0.8828 | test ppl     2.42\n",
      "-----------------------------------------------------------------------------------------\n",
      "-----------------------------------------------------------------------------------------\n",
      "| end of epoch 129 | time: 14.19s | test loss 0.8849 | test ppl     2.42\n",
      "-----------------------------------------------------------------------------------------\n",
      "-----------------------------------------------------------------------------------------\n",
      "| end of epoch 130 | time: 14.18s | test loss 0.8821 | test ppl     2.42\n",
      "-----------------------------------------------------------------------------------------\n",
      "-----------------------------------------------------------------------------------------\n",
      "| end of epoch 131 | time: 14.19s | test loss 0.8803 | test ppl     2.41\n",
      "-----------------------------------------------------------------------------------------\n",
      "-----------------------------------------------------------------------------------------\n",
      "| end of epoch 132 | time: 14.16s | test loss 0.8801 | test ppl     2.41\n",
      "-----------------------------------------------------------------------------------------\n",
      "-----------------------------------------------------------------------------------------\n",
      "| end of epoch 133 | time: 14.16s | test loss 0.8921 | test ppl     2.44\n",
      "-----------------------------------------------------------------------------------------\n",
      "-----------------------------------------------------------------------------------------\n",
      "| end of epoch 134 | time: 14.17s | test loss 0.8895 | test ppl     2.43\n",
      "-----------------------------------------------------------------------------------------\n",
      "-----------------------------------------------------------------------------------------\n",
      "| end of epoch 135 | time: 14.17s | test loss 0.8831 | test ppl     2.42\n",
      "-----------------------------------------------------------------------------------------\n",
      "-----------------------------------------------------------------------------------------\n",
      "| end of epoch 136 | time: 14.18s | test loss 0.8846 | test ppl     2.42\n",
      "-----------------------------------------------------------------------------------------\n",
      "-----------------------------------------------------------------------------------------\n",
      "| end of epoch 137 | time: 14.18s | test loss 0.8859 | test ppl     2.43\n",
      "-----------------------------------------------------------------------------------------\n",
      "-----------------------------------------------------------------------------------------\n",
      "| end of epoch 138 | time: 14.19s | test loss 0.8827 | test ppl     2.42\n",
      "-----------------------------------------------------------------------------------------\n",
      "-----------------------------------------------------------------------------------------\n",
      "| end of epoch 139 | time: 14.20s | test loss 0.8675 | test ppl     2.38\n",
      "-----------------------------------------------------------------------------------------\n",
      "-----------------------------------------------------------------------------------------\n",
      "| end of epoch 140 | time: 14.18s | test loss 0.8736 | test ppl     2.40\n",
      "-----------------------------------------------------------------------------------------\n",
      "-----------------------------------------------------------------------------------------\n",
      "| end of epoch 141 | time: 14.18s | test loss 0.8628 | test ppl     2.37\n",
      "-----------------------------------------------------------------------------------------\n",
      "-----------------------------------------------------------------------------------------\n",
      "| end of epoch 142 | time: 14.17s | test loss 0.8716 | test ppl     2.39\n",
      "-----------------------------------------------------------------------------------------\n",
      "-----------------------------------------------------------------------------------------\n",
      "| end of epoch 143 | time: 14.18s | test loss 0.8683 | test ppl     2.38\n",
      "-----------------------------------------------------------------------------------------\n",
      "-----------------------------------------------------------------------------------------\n",
      "| end of epoch 144 | time: 14.17s | test loss 0.8649 | test ppl     2.37\n",
      "-----------------------------------------------------------------------------------------\n",
      "-----------------------------------------------------------------------------------------\n",
      "| end of epoch 145 | time: 14.20s | test loss 0.8618 | test ppl     2.37\n",
      "-----------------------------------------------------------------------------------------\n",
      "-----------------------------------------------------------------------------------------\n",
      "| end of epoch 146 | time: 14.18s | test loss 0.8629 | test ppl     2.37\n",
      "-----------------------------------------------------------------------------------------\n"
     ]
    },
    {
     "ename": "KeyboardInterrupt",
     "evalue": "",
     "output_type": "error",
     "traceback": [
      "\u001B[1;31m---------------------------------------------------------------------------\u001B[0m",
      "\u001B[1;31mKeyboardInterrupt\u001B[0m                         Traceback (most recent call last)",
      "\u001B[1;32m<ipython-input-22-414210c630fa>\u001B[0m in \u001B[0;36m<module>\u001B[1;34m\u001B[0m\n\u001B[0;32m     70\u001B[0m \u001B[1;33m\u001B[0m\u001B[0m\n\u001B[0;32m     71\u001B[0m     \u001B[0mepoch_start_time\u001B[0m \u001B[1;33m=\u001B[0m \u001B[0mtime\u001B[0m\u001B[1;33m.\u001B[0m\u001B[0mtime\u001B[0m\u001B[1;33m(\u001B[0m\u001B[1;33m)\u001B[0m\u001B[1;33m\u001B[0m\u001B[1;33m\u001B[0m\u001B[0m\n\u001B[1;32m---> 72\u001B[1;33m     \u001B[0mtrain\u001B[0m\u001B[1;33m(\u001B[0m\u001B[1;33m)\u001B[0m\u001B[1;33m\u001B[0m\u001B[1;33m\u001B[0m\u001B[0m\n\u001B[0m\u001B[0;32m     73\u001B[0m \u001B[1;33m\u001B[0m\u001B[0m\n\u001B[0;32m     74\u001B[0m     \u001B[1;31m# TODO: put all images into tensorboard so we can watch the attention shift\u001B[0m\u001B[1;33m\u001B[0m\u001B[1;33m\u001B[0m\u001B[1;33m\u001B[0m\u001B[0m\n",
      "\u001B[1;32m<ipython-input-21-9b785c7c0b38>\u001B[0m in \u001B[0;36mtrain\u001B[1;34m()\u001B[0m\n\u001B[0;32m     15\u001B[0m         \u001B[0mcurrent_loss\u001B[0m\u001B[1;33m:\u001B[0m \u001B[0mTensor\u001B[0m \u001B[1;33m=\u001B[0m \u001B[0mcalculate_loss\u001B[0m\u001B[1;33m(\u001B[0m\u001B[0moutput\u001B[0m\u001B[1;33m,\u001B[0m \u001B[0mtarget\u001B[0m\u001B[1;33m)\u001B[0m\u001B[1;33m\u001B[0m\u001B[1;33m\u001B[0m\u001B[0m\n\u001B[0;32m     16\u001B[0m \u001B[1;33m\u001B[0m\u001B[0m\n\u001B[1;32m---> 17\u001B[1;33m         \u001B[0mcurrent_loss\u001B[0m\u001B[1;33m.\u001B[0m\u001B[0mbackward\u001B[0m\u001B[1;33m(\u001B[0m\u001B[1;33m)\u001B[0m\u001B[1;33m\u001B[0m\u001B[1;33m\u001B[0m\u001B[0m\n\u001B[0m\u001B[0;32m     18\u001B[0m         \u001B[0mtorch\u001B[0m\u001B[1;33m.\u001B[0m\u001B[0mnn\u001B[0m\u001B[1;33m.\u001B[0m\u001B[0mutils\u001B[0m\u001B[1;33m.\u001B[0m\u001B[0mclip_grad_norm_\u001B[0m\u001B[1;33m(\u001B[0m\u001B[0mmodel\u001B[0m\u001B[1;33m.\u001B[0m\u001B[0mparameters\u001B[0m\u001B[1;33m(\u001B[0m\u001B[1;33m)\u001B[0m\u001B[1;33m,\u001B[0m \u001B[1;36m0.5\u001B[0m\u001B[1;33m)\u001B[0m\u001B[1;33m\u001B[0m\u001B[1;33m\u001B[0m\u001B[0m\n\u001B[0;32m     19\u001B[0m         \u001B[0moptimizer\u001B[0m\u001B[1;33m.\u001B[0m\u001B[0mstep\u001B[0m\u001B[1;33m(\u001B[0m\u001B[1;33m)\u001B[0m\u001B[1;33m\u001B[0m\u001B[1;33m\u001B[0m\u001B[0m\n",
      "\u001B[1;32m~\\anaconda3\\envs\\thesis_env\\lib\\site-packages\\torch\\tensor.py\u001B[0m in \u001B[0;36mbackward\u001B[1;34m(self, gradient, retain_graph, create_graph)\u001B[0m\n\u001B[0;32m    219\u001B[0m                 \u001B[0mretain_graph\u001B[0m\u001B[1;33m=\u001B[0m\u001B[0mretain_graph\u001B[0m\u001B[1;33m,\u001B[0m\u001B[1;33m\u001B[0m\u001B[1;33m\u001B[0m\u001B[0m\n\u001B[0;32m    220\u001B[0m                 create_graph=create_graph)\n\u001B[1;32m--> 221\u001B[1;33m         \u001B[0mtorch\u001B[0m\u001B[1;33m.\u001B[0m\u001B[0mautograd\u001B[0m\u001B[1;33m.\u001B[0m\u001B[0mbackward\u001B[0m\u001B[1;33m(\u001B[0m\u001B[0mself\u001B[0m\u001B[1;33m,\u001B[0m \u001B[0mgradient\u001B[0m\u001B[1;33m,\u001B[0m \u001B[0mretain_graph\u001B[0m\u001B[1;33m,\u001B[0m \u001B[0mcreate_graph\u001B[0m\u001B[1;33m)\u001B[0m\u001B[1;33m\u001B[0m\u001B[1;33m\u001B[0m\u001B[0m\n\u001B[0m\u001B[0;32m    222\u001B[0m \u001B[1;33m\u001B[0m\u001B[0m\n\u001B[0;32m    223\u001B[0m     \u001B[1;32mdef\u001B[0m \u001B[0mregister_hook\u001B[0m\u001B[1;33m(\u001B[0m\u001B[0mself\u001B[0m\u001B[1;33m,\u001B[0m \u001B[0mhook\u001B[0m\u001B[1;33m)\u001B[0m\u001B[1;33m:\u001B[0m\u001B[1;33m\u001B[0m\u001B[1;33m\u001B[0m\u001B[0m\n",
      "\u001B[1;32m~\\anaconda3\\envs\\thesis_env\\lib\\site-packages\\torch\\autograd\\__init__.py\u001B[0m in \u001B[0;36mbackward\u001B[1;34m(tensors, grad_tensors, retain_graph, create_graph, grad_variables)\u001B[0m\n\u001B[0;32m    130\u001B[0m     Variable._execution_engine.run_backward(\n\u001B[0;32m    131\u001B[0m         \u001B[0mtensors\u001B[0m\u001B[1;33m,\u001B[0m \u001B[0mgrad_tensors_\u001B[0m\u001B[1;33m,\u001B[0m \u001B[0mretain_graph\u001B[0m\u001B[1;33m,\u001B[0m \u001B[0mcreate_graph\u001B[0m\u001B[1;33m,\u001B[0m\u001B[1;33m\u001B[0m\u001B[1;33m\u001B[0m\u001B[0m\n\u001B[1;32m--> 132\u001B[1;33m         allow_unreachable=True)  # allow_unreachable flag\n\u001B[0m\u001B[0;32m    133\u001B[0m \u001B[1;33m\u001B[0m\u001B[0m\n\u001B[0;32m    134\u001B[0m \u001B[1;33m\u001B[0m\u001B[0m\n",
      "\u001B[1;31mKeyboardInterrupt\u001B[0m: "
     ]
    }
   ],
   "source": [
    "loss_over_time = []\n",
    "\n",
    "# TRAINING TIME----------------------------------------------------------------\n",
    "max_epochs = 1000 # If convergence isn't reached when reached we just stop\n",
    "warmup_epochs = 400\n",
    "convergence_grace_epochs = 80000\n",
    "\n",
    "# BATCHING & DECODER_SEQ_LENGHT------------------------------------------------\n",
    "#batch_size = 128\n",
    "batch_size = 256\n",
    "#batch_size = 512\n",
    "#batch_size = 640\n",
    "#batch_size = 896\n",
    "#batch_size = 1024\n",
    "#batch_size = 1536\n",
    "#batch_size = 2048\n",
    "decoder_seq_length = 16\n",
    "\n",
    "# MODEL HYPERPARAMS------------------------------------------------------------\n",
    "embedding_dimension = 768 # the size of vocabulary\n",
    "model_dimension = 256\n",
    "feedforward_dimension = 2048\n",
    "encoder_layers = 2 # 2 performed best\n",
    "decoder_layers = 2 # subject to testing\n",
    "heads = 4 # the number of heads for multiheadattention, 4 performed best\n",
    "dropout = 0.2 # the dropout value\n",
    "\n",
    "# MODEL INSTANTIATION----------------------------------------------------------\n",
    "model = BertHistoryTransformer(\n",
    "    decoder_seq_length=decoder_seq_length,\n",
    "    embedding_dimension=embedding_dimension,\n",
    "    model_dimension=model_dimension,\n",
    "    encoder_layers=encoder_layers,\n",
    "    decoder_layers=decoder_layers,\n",
    "    heads=heads,\n",
    "    dropout=dropout\n",
    ")\n",
    "\n",
    "# LR & TRAINING LOOP & OPTIMIZER-----------------------------------------------\n",
    "lr = 0.02\n",
    "\n",
    "def calculate_lr(step: int) -> float:\n",
    "    step += 1\n",
    "    return lr * min(pow(step, -0.5), step * pow(warmup_epochs, -1.5))\n",
    "\n",
    "optimizer = torch.optim.Adam(model.parameters(), lr=lr, betas=(0.9, 0.98), eps=1e-9)\n",
    "scheduler = torch.optim.lr_scheduler.LambdaLR(optimizer, calculate_lr)\n",
    "\n",
    "best_test_loss = float(\"inf\")\n",
    "best_model = None\n",
    "\n",
    "no_improvement_epoch_count = 0\n",
    "\n",
    "print('| ==== Got {:6d} training examples, splitting into {:4d} batches a {:4d} examples '.format(\n",
    "    train_data.shape[1], train_data.shape[1] // batch_size, batch_size\n",
    "))\n",
    "\n",
    "# -----------------------------------------------------------------------------\n",
    "seq_length = 16 # this is to be adjusted in the scala code\n",
    "max_seq_length = 18\n",
    "\n",
    "similar_dissimilar_label = torch.ones(decoder_seq_length * batch_size * embedding_dimension).to(device)\n",
    "torch.cuda.empty_cache()\n",
    "\n",
    "for epoch in range(1, max_epochs):\n",
    "    # check if we've converged\n",
    "    if no_improvement_epoch_count > convergence_grace_epochs:\n",
    "        print(\"| ----------------------- CONVERGENCE GRACE PERIOD SURPASSED\")\n",
    "        break\n",
    "\n",
    "    epoch_start_time = time.time()\n",
    "    train()\n",
    "\n",
    "    # TODO: put all images into tensorboard so we can watch the attention shift\n",
    "    test_loss, enc_att, dec_att, mult_att = evaluate(model, test_data)\n",
    "    loss_over_time.append(test_loss)\n",
    "\n",
    "    print('-' * 89)\n",
    "    print('| end of epoch {:3d} | time: {:5.2f}s | test loss {:5.4f} | test ppl {:8.2f}'.format(\n",
    "        epoch, (time.time() - epoch_start_time), test_loss, math.exp(test_loss))\n",
    "    )\n",
    "    print('-' * 89)\n",
    "\n",
    "\n",
    "    if math.isclose(test_loss, best_test_loss, abs_tol=0.0001):\n",
    "        no_improvement_epoch_count += 1\n",
    "\n",
    "    if test_loss < best_test_loss:\n",
    "        best_test_loss = test_loss\n",
    "        best_model = model\n",
    "\n",
    "    scheduler.step()"
   ],
   "metadata": {
    "collapsed": false,
    "pycharm": {
     "name": "#%%\n"
    }
   }
  },
  {
   "cell_type": "markdown",
   "source": [
    "# Evaluation"
   ],
   "metadata": {
    "collapsed": false,
    "pycharm": {
     "name": "#%% md\n"
    }
   }
  },
  {
   "cell_type": "code",
   "execution_count": 23,
   "metadata": {
    "id": "iUxA4c8i5Z7a",
    "pycharm": {
     "name": "#%%\n"
    }
   },
   "outputs": [
    {
     "name": "stdout",
     "output_type": "stream",
     "text": [
      "=========================================================================================\n",
      "| End of training | out of sample loss 0.875252 | validation ppl     2.40\n",
      "=========================================================================================\n"
     ]
    }
   ],
   "source": [
    "val_loss, a, b, c = evaluate(best_model, val_data)\n",
    "\n",
    "print('=' * 89)\n",
    "print('| End of training | out of sample loss {:5.6f} | validation ppl {:8.2f}'.format(val_loss, math.exp(val_loss)))\n",
    "print('=' * 89)"
   ]
  },
  {
   "cell_type": "code",
   "execution_count": 24,
   "metadata": {
    "pycharm": {
     "name": "#%%\n"
    }
   },
   "outputs": [
    {
     "data": {
      "text/plain": "[<matplotlib.lines.Line2D at 0x28c2bf05a88>]"
     },
     "execution_count": 24,
     "metadata": {},
     "output_type": "execute_result"
    },
    {
     "data": {
      "text/plain": "<Figure size 432x288 with 1 Axes>",
      "image/png": "[encoded data removed]"
     },
     "metadata": {
      "needs_background": "light"
     },
     "output_type": "display_data"
    }
   ],
   "source": [
    "plt.plot(loss_over_time)"
   ]
  },
  {
   "cell_type": "code",
   "execution_count": 25,
   "outputs": [],
   "source": [
    "#torch.set_printoptions(edgeitems=3)\n",
    "\n",
    "batch_size = 3\n",
    "x, z, actual, pad = get_batch(val_data, test_padding_map, 1)"
   ],
   "metadata": {
    "collapsed": false,
    "pycharm": {
     "name": "#%%\n"
    }
   }
  },
  {
   "cell_type": "code",
   "execution_count": 26,
   "outputs": [
    {
     "name": "stdout",
     "output_type": "stream",
     "text": [
      "torch.Size([16, 3, 768])\n"
     ]
    },
    {
     "data": {
      "text/plain": "tensor([[[-9.0457e-01,  1.2714e-02,  4.9749e-01,  ...,  1.8895e+00,\n           8.6814e-01, -3.7130e-01],\n         [-1.7216e-01, -4.6049e-01,  2.5054e-01,  ...,  1.2910e+00,\n           1.2516e+00,  5.0627e-01],\n         [-4.8508e-01, -5.1946e-02,  1.8242e-01,  ...,  7.7027e-01,\n           7.8208e-01, -8.9879e-03]],\n\n        [[-5.3514e-01, -2.8362e-01,  9.0634e-01,  ...,  8.5750e-01,\n           8.7612e-01, -1.7978e-01],\n         [-2.5939e-03,  1.2943e-01, -1.0862e-01,  ...,  6.9449e-02,\n           6.6726e-01, -7.2774e-02],\n         [-3.0401e-01, -6.2218e-02,  6.5759e-01,  ...,  4.7975e-01,\n           9.8095e-01,  5.0123e-01]],\n\n        [[-7.3030e-01, -1.7939e-01,  2.3337e-01,  ...,  7.3753e-01,\n           9.7322e-01,  8.1784e-02],\n         [-5.4677e-01,  4.0596e-01,  2.7073e-01,  ...,  4.4434e-01,\n           6.5584e-01,  8.3244e-02],\n         [-2.4833e-01, -6.9638e-01,  4.4997e-01,  ...,  7.6136e-01,\n           2.2312e-01,  1.9022e-01]],\n\n        ...,\n\n        [[-5.7896e-01,  1.7959e-01, -6.0843e-02,  ...,  4.8247e-01,\n           5.8036e-01,  2.2410e-02],\n         [-6.4225e-02,  2.3623e-01,  3.2071e-01,  ...,  1.0403e+00,\n           5.0808e-01,  3.3165e-01],\n         [-4.7864e-01, -2.7348e-01, -5.9755e-01,  ...,  8.8892e-01,\n           9.4927e-01, -2.5962e-01]],\n\n        [[-5.4277e-01, -1.8050e+00,  3.3374e-01,  ...,  1.0744e+00,\n           7.1525e-01, -4.0009e-01],\n         [-5.6901e-01,  6.8492e-02,  1.6255e-01,  ...,  1.2121e+00,\n           5.7296e-01,  6.3125e-01],\n         [-9.1403e-01, -4.6243e-01, -4.5143e-01,  ...,  1.6715e+00,\n           1.3085e+00,  3.0819e-01]],\n\n        [[-3.4650e-01,  2.1501e-01,  1.0051e-01,  ...,  4.2101e-01,\n           4.8815e-02, -2.5998e-02],\n         [ 5.8235e-04, -5.3996e-01,  8.4309e-01,  ...,  3.3048e-01,\n           2.2942e-01,  2.0584e-01],\n         [-8.2027e-02,  2.8646e-01, -7.0131e-01,  ...,  7.3236e-01,\n           7.8370e-01,  1.9763e-01]]], device='cuda:0')"
     },
     "execution_count": 26,
     "metadata": {},
     "output_type": "execute_result"
    }
   ],
   "source": [
    "print(actual.shape)\n",
    "actual"
   ],
   "metadata": {
    "collapsed": false,
    "pycharm": {
     "name": "#%%\n"
    }
   }
  },
  {
   "cell_type": "code",
   "execution_count": 27,
   "outputs": [
    {
     "name": "stdout",
     "output_type": "stream",
     "text": [
      "Encoder Attention\n",
      "Decoder Attention\n",
      "Encoder-Decoder Attention\n",
      "0.9233057498931885\n"
     ]
    },
    {
     "data": {
      "text/plain": "<Figure size 432x288 with 1 Axes>",
      "image/png": "[encoded data removed]"
     },
     "metadata": {
      "needs_background": "light"
     },
     "output_type": "display_data"
    },
    {
     "data": {
      "text/plain": "<Figure size 432x288 with 1 Axes>",
      "image/png": "[encoded data removed]"
     },
     "metadata": {
      "needs_background": "light"
     },
     "output_type": "display_data"
    },
    {
     "data": {
      "text/plain": "<Figure size 432x288 with 1 Axes>",
      "image/png": "[encoded data removed]"
     },
     "metadata": {
      "needs_background": "light"
     },
     "output_type": "display_data"
    }
   ],
   "source": [
    "best_model.eval()\n",
    "\n",
    "with torch.no_grad():\n",
    "    prediction, enc_att, dec_att, mult_attn = best_model.predict(x, z, pad)\n",
    "\n",
    "plt.imshow(enc_att[0, 0, :, :].squeeze().detach().cpu().numpy(), cmap='Blues')\n",
    "print(\"Encoder Attention\")\n",
    "plt.show()\n",
    "plt.imshow(dec_att[0, :, :].squeeze().detach().cpu().numpy(), cmap='Blues')\n",
    "print(\"Decoder Attention\")\n",
    "plt.show()\n",
    "plt.imshow(mult_attn[0, :, :].squeeze().detach().cpu().numpy(), cmap='Blues')\n",
    "print(\"Encoder-Decoder Attention\")\n",
    "plt.show()\n",
    "\n",
    "loss = calculate_loss(prediction, actual)\n",
    "print(loss.item())"
   ],
   "metadata": {
    "collapsed": false,
    "pycharm": {
     "name": "#%%\n"
    }
   }
  },
  {
   "cell_type": "code",
   "execution_count": 28,
   "outputs": [
    {
     "name": "stdout",
     "output_type": "stream",
     "text": [
      "x:\n",
      "tensor([-1.0717, -0.8808, -0.9046, -0.5351, -0.7303, -0.0688,  0.2847,  0.3518,\n",
      "         0.0243, -0.3431, -0.1168, -0.7088, -0.1699, -0.6593, -0.1676, -0.5790],\n",
      "       device='cuda:0')\n",
      "z:\n",
      "tensor([-0.8808, -0.9046, -0.5351, -0.7303, -0.0688,  0.2847,  0.3518,  0.0243,\n",
      "        -0.3431, -0.1168, -0.7088, -0.1699, -0.6593, -0.1676, -0.5790, -0.5428],\n",
      "       device='cuda:0')\n",
      "----------------------------\n",
      "actual:\n",
      "tensor([[-0.9046,  0.0127,  0.4975],\n",
      "        [-0.5351, -0.2836,  0.9063],\n",
      "        [-0.7303, -0.1794,  0.2334],\n",
      "        [-0.0688, -0.8595,  0.5319],\n",
      "        [ 0.2847, -0.5828,  0.3962],\n",
      "        [ 0.3518,  0.7067,  0.7314],\n",
      "        [ 0.0243, -0.2605, -0.1588],\n",
      "        [-0.3431,  0.0356,  0.2591],\n",
      "        [-0.1168,  0.5269, -0.3710],\n",
      "        [-0.7088, -1.0321, -0.0255],\n",
      "        [-0.1699, -0.2010,  0.1341],\n",
      "        [-0.6593, -0.5567, -0.0046],\n",
      "        [-0.1676,  0.1457,  0.0438],\n",
      "        [-0.5790,  0.1796, -0.0608],\n",
      "        [-0.5428, -1.8050,  0.3337],\n",
      "        [-0.3465,  0.2150,  0.1005]], device='cuda:0')\n",
      "pred:\n",
      "tensor([[-0.1478, -0.2275,  0.3533],\n",
      "        [-0.2274, -0.1721,  0.2835],\n",
      "        [-0.3571, -0.1208,  0.2617],\n",
      "        [-0.4160, -0.1950,  0.2031],\n",
      "        [-0.3149, -0.0815,  0.2716],\n",
      "        [-0.3945, -0.2174,  0.2257],\n",
      "        [-0.2579, -0.1560,  0.2923],\n",
      "        [-0.2541, -0.0859,  0.2033],\n",
      "        [-0.3490, -0.1070,  0.1942],\n",
      "        [-0.3449, -0.1143,  0.1933],\n",
      "        [-0.2597, -0.2737,  0.1831],\n",
      "        [-0.1824, -0.1414,  0.1891],\n",
      "        [-0.3267, -0.1004,  0.2205],\n",
      "        [-0.3493, -0.1218,  0.1969],\n",
      "        [-0.2715, -0.1525,  0.2172],\n",
      "        [-0.3271, -0.2123,  0.1226]], device='cuda:0')\n"
     ]
    }
   ],
   "source": [
    "print(\"x:\")\n",
    "print(x[:, 0, 0])\n",
    "print(\"z:\")\n",
    "print(z[:, 0, 0])\n",
    "print(\"----------------------------\")\n",
    "print(\"actual:\")\n",
    "print(actual[:, 0, 0:3])\n",
    "print(\"pred:\")\n",
    "print(prediction[:, 0, 0:3])\n"
   ],
   "metadata": {
    "collapsed": false,
    "pycharm": {
     "name": "#%%\n"
    }
   }
  },
  {
   "cell_type": "markdown",
   "source": [
    "Create a lookup table for calculating recall and accuracy"
   ],
   "metadata": {
    "collapsed": false,
    "pycharm": {
     "name": "#%% md\n"
    }
   }
  },
  {
   "cell_type": "code",
   "execution_count": 29,
   "outputs": [],
   "source": [
    "def extract_article_bert_tuple(data):\n",
    "    return { article_and_bert[\"_1\"]: article_and_bert[\"_2\"] for article_and_bert in data }"
   ],
   "metadata": {
    "collapsed": false,
    "pycharm": {
     "name": "#%%\n"
    }
   }
  },
  {
   "cell_type": "code",
   "source": [
    "raw_lookup = read_multi_json_objects_file(\"../data/lookup.json\")"
   ],
   "metadata": {
    "collapsed": false,
    "pycharm": {
     "name": "#%%\n"
    }
   },
   "execution_count": 30,
   "outputs": []
  },
  {
   "cell_type": "code",
   "execution_count": 31,
   "outputs": [],
   "source": [
    "article_bert_lookup = extract_article_bert_tuple(raw_lookup)\n",
    "\n",
    "bert_vectors: List[List[float]] = list(article_bert_lookup.values())\n",
    "article_ids: List[int]          = list(article_bert_lookup.keys())"
   ],
   "metadata": {
    "collapsed": false,
    "pycharm": {
     "name": "#%%\n"
    }
   }
  },
  {
   "cell_type": "code",
   "execution_count": 32,
   "outputs": [],
   "source": [
    "pred = []\n",
    "real = []\n",
    "for i in range(batch_size):\n",
    "    for j in range(decoder_seq_length):\n",
    "        pred.append(prediction[j, i, :].detach().cpu().numpy())\n",
    "        real.append(actual[j, i, :].detach().cpu().numpy())"
   ],
   "metadata": {
    "collapsed": false,
    "pycharm": {
     "name": "#%%\n"
    }
   }
  },
  {
   "cell_type": "code",
   "execution_count": 33,
   "outputs": [],
   "source": [
    "def get_calculated_similarities(bert_pred) -> List[List[float]]:\n",
    "    return cosine_similarity(bert_pred, bert_vectors).tolist()\n",
    "\n",
    "def get_article_for(similarities: List[float]) -> int:\n",
    "    article_id_index = similarities.index(max(similarities))\n",
    "    return article_ids[article_id_index]\n",
    "\n",
    "def get_actual_article(bert_actual: List[float]) -> int:\n",
    "    article_id_index = bert_vectors.index(bert_actual)\n",
    "    return article_ids[article_id_index]"
   ],
   "metadata": {
    "collapsed": false,
    "pycharm": {
     "name": "#%%\n"
    }
   }
  },
  {
   "cell_type": "code",
   "execution_count": 34,
   "outputs": [],
   "source": [
    "pred_similarities: List[List[float]] = get_calculated_similarities(pred)\n",
    "articles_pred: List[int] = [ get_article_for(pred_similarity) for pred_similarity in pred_similarities ]"
   ],
   "metadata": {
    "collapsed": false,
    "pycharm": {
     "name": "#%%\n"
    }
   }
  },
  {
   "cell_type": "code",
   "execution_count": 35,
   "outputs": [],
   "source": [
    "true_similarities: List[List[float]] = get_calculated_similarities(real)\n",
    "articles_true: List[int] = [ get_article_for(true_similarity) for true_similarity in true_similarities ]"
   ],
   "metadata": {
    "collapsed": false,
    "pycharm": {
     "name": "#%%\n"
    }
   }
  },
  {
   "cell_type": "code",
   "execution_count": 36,
   "outputs": [
    {
     "name": "stdout",
     "output_type": "stream",
     "text": [
      "[710644733, 710644733, 710644733, 710644733, 734062063, 731868563, 734062063, 734062063, 710644733, 227552441, 227552441, 710644733, 710644733, 710644733, 710644733, 737480976, 710644733, 666216061, 666216061, 710644733, 710644733, 710644733, 737480976, 710644733, 737480976, 710644733, 710644733, 666216061, 710644733, 710644733, 710644733, 710644733, 710644733, 710644733, 710644733, 710644733, 710644733, 710644733, 710644733, 710644733, 710644733, 710644733, 710644733, 710644733, 710644733, 710644733, 710644733, 710644733]\n",
      "[731227949, 731452667, 738928041, 561377567, 738883014, 688037077, 740030469, 742062385, 705882024, 736150288, 741840092, 727231175, 703055624, 683718636, 742524127, 742558748, 700752395, 740884807, 715665631, 741170897, 741408143, 742044694, 742398083, 741645955, 740114922, 708343797, 732090776, 725478662, 741673105, 742068951, 669289018, 726374141, 741116757, 733960089, 729569284, 725923921, 724456012, 740884807, 738798794, 741170897, 607660747, 700759122, 742398083, 742651845, 610228515, 732583526, 727603433, 721167333]\n"
     ]
    }
   ],
   "source": [
    "print(articles_pred)\n",
    "print(articles_true)"
   ],
   "metadata": {
    "collapsed": false,
    "pycharm": {
     "name": "#%%\n"
    }
   }
  },
  {
   "cell_type": "code",
   "execution_count": 37,
   "outputs": [
    {
     "data": {
      "text/plain": "0.0"
     },
     "execution_count": 37,
     "metadata": {},
     "output_type": "execute_result"
    }
   ],
   "source": [
    "accuracy_score(articles_true, articles_pred)"
   ],
   "metadata": {
    "collapsed": false,
    "pycharm": {
     "name": "#%%\n"
    }
   }
  }
 ],
 "metadata": {
  "colab": {
   "collapsed_sections": [],
   "name": "next_article_prediction.ipynb",
   "provenance": []
  },
  "kernelspec": {
   "display_name": "Python 3",
   "language": "python",
   "name": "python3"
  },
  "language_info": {
   "codemirror_mode": {
    "name": "ipython",
    "version": 3
   },
   "file_extension": ".py",
   "mimetype": "text/x-python",
   "name": "python",
   "nbconvert_exporter": "python",
   "pygments_lexer": "ipython3",
   "version": "3.7.9"
  }
 },
 "nbformat": 4,
 "nbformat_minor": 1
}